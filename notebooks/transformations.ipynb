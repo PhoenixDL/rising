{
 "cells": [
  {
   "cell_type": "code",
   "execution_count": null,
   "metadata": {
    "ExecuteTime": {
     "end_time": "2020-02-15T09:57:50.791332Z",
     "start_time": "2020-02-15T09:57:46.068701Z"
    },
    "scrolled": true
   },
   "outputs": [],
   "source": [
    "!pip install napari\n",
    "!pip install SimpleITK"
   ]
  },
  {
   "cell_type": "code",
   "execution_count": null,
   "metadata": {
    "ExecuteTime": {
     "end_time": "2020-02-15T10:01:52.452774Z",
     "start_time": "2020-02-15T10:01:52.389042Z"
    }
   },
   "outputs": [],
   "source": [
    "%reload_ext autoreload\n",
    "%autoreload 2\n",
    "%matplotlib inline\n",
    "%gui qt"
   ]
  },
  {
   "cell_type": "code",
   "execution_count": null,
   "metadata": {
    "ExecuteTime": {
     "end_time": "2020-02-15T09:57:14.608576Z",
     "start_time": "2020-02-15T09:56:29.264911Z"
    }
   },
   "outputs": [],
   "source": [
    "from io import BytesIO\n",
    "from zipfile import ZipFile\n",
    "from urllib.request import urlopen\n",
    "\n",
    "resp = urlopen(\"http://www.fmrib.ox.ac.uk/primers/intro_primer/ExBox3/ExBox3.zip\")\n",
    "zipfile = ZipFile(BytesIO(resp.read()))\n",
    "#zipfile_list = zipfile.namelist()\n",
    "#print(zipfile_list)\n",
    "img_file = zipfile.extract(\"ExBox3/T1_brain.nii.gz\")\n",
    "mask_file = zipfile.extract(\"ExBox3/T1_brain_seg.nii.gz\")"
   ]
  },
  {
   "cell_type": "code",
   "execution_count": null,
   "metadata": {
    "ExecuteTime": {
     "end_time": "2020-02-15T10:04:15.140790Z",
     "start_time": "2020-02-15T10:04:14.896805Z"
    }
   },
   "outputs": [],
   "source": [
    "import SimpleITK as sitk\n",
    "import numpy as np\n",
    "\n",
    "# load image and mask\n",
    "img = sitk.GetArrayFromImage(sitk.ReadImage(img_file))\n",
    "img = img.astype(np.float32)\n",
    "mask = mask = sitk.GetArrayFromImage(sitk.ReadImage(mask_file))\n",
    "mask = mask.astype(np.float32)\n",
    "\n",
    "assert mask.shape == img.shape\n",
    "print(f\"Image shape {img.shape}\")\n",
    "print(f\"Image shape {mask.shape}\")"
   ]
  },
  {
   "cell_type": "code",
   "execution_count": null,
   "metadata": {
    "ExecuteTime": {
     "end_time": "2020-02-15T10:19:58.269109Z",
     "start_time": "2020-02-15T10:19:58.196441Z"
    }
   },
   "outputs": [],
   "source": [
    "import napari\n",
    "def view_batch(batch):\n",
    "    viewer = napari.view_image(batch[\"data\"].cpu().numpy(), name=\"data\")\n",
    "    viewer.add_image(batch[\"mask\"].cpu().numpy(), name=\"mask\", opacity=0.2)"
   ]
  },
  {
   "cell_type": "code",
   "execution_count": null,
   "metadata": {
    "ExecuteTime": {
     "end_time": "2020-02-15T10:24:42.215111Z",
     "start_time": "2020-02-15T10:24:42.121751Z"
    }
   },
   "outputs": [],
   "source": [
    "import torch\n",
    "from rising.transforms import *\n",
    "\n",
    "batch = {\n",
    "    \"data\": torch.from_numpy(img).float()[None],\n",
    "    \"mask\": torch.from_numpy(mask).long()[None],\n",
    "}\n",
    "\n",
    "def apply_transform(trafo, batch):\n",
    "    transformed = trafo(**batch)\n",
    "    print(f\"Transformed data shape: {transformed['data'].shape}\")\n",
    "    print(f\"Transformed mask shape: {transformed['mask'].shape}\")\n",
    "    print(f\"Transformed data min: {transformed['data'].min()}\")\n",
    "    print(f\"Transformed data max: {transformed['data'].max()}\")\n",
    "    print(f\"Transformed data mean: {transformed['data'].mean()}\")\n",
    "    return transformed"
   ]
  },
  {
   "cell_type": "code",
   "execution_count": null,
   "metadata": {
    "ExecuteTime": {
     "end_time": "2020-02-15T10:36:11.811863Z",
     "start_time": "2020-02-15T10:36:11.729206Z"
    }
   },
   "outputs": [],
   "source": [
    "print(f\"Transformed data shape: {batch['data'].shape}\")\n",
    "print(f\"Transformed mask shape: {batch['mask'].shape}\")\n",
    "print(f\"Transformed data min: {batch['data'].min()}\")\n",
    "print(f\"Transformed data max: {batch['data'].max()}\")\n",
    "print(f\"Transformed data mean: {batch['data'].mean()}\")"
   ]
  },
  {
   "cell_type": "code",
   "execution_count": null,
   "metadata": {
    "ExecuteTime": {
     "end_time": "2020-02-15T10:37:56.495818Z",
     "start_time": "2020-02-15T10:37:55.880045Z"
    }
   },
   "outputs": [],
   "source": [
    "trafo = ScaleAroundOrigin(0.5, adjust_size=False)\n",
    "transformed = apply_transform(trafo, batch)\n",
    "view_batch(transformed)"
   ]
  },
  {
   "cell_type": "code",
   "execution_count": null,
   "metadata": {
    "ExecuteTime": {
     "end_time": "2020-02-15T10:37:21.018478Z",
     "start_time": "2020-02-15T10:37:20.365852Z"
    }
   },
   "outputs": [],
   "source": [
    "trafo = RotateAroundOrigin(45, degree=True, adjust_size=False)\n",
    "transformed = apply_transform(trafo, batch)\n",
    "view_batch(transformed)"
   ]
  },
  {
   "cell_type": "code",
   "execution_count": null,
   "metadata": {
    "ExecuteTime": {
     "end_time": "2020-02-15T10:36:47.910532Z",
     "start_time": "2020-02-15T10:36:47.303825Z"
    }
   },
   "outputs": [],
   "source": [
    "trafo = Translate(20, adjust_size=False)\n",
    "transformed = apply_transform(trafo, batch)\n",
    "view_batch(transformed)"
   ]
  },
  {
   "cell_type": "code",
   "execution_count": null,
   "metadata": {},
   "outputs": [],
   "source": []
  }
 ],
 "metadata": {
  "kernelspec": {
   "display_name": "Python 3",
   "language": "python",
   "name": "python3"
  },
  "language_info": {
   "codemirror_mode": {
    "name": "ipython",
    "version": 3
   },
   "file_extension": ".py",
   "mimetype": "text/x-python",
   "name": "python",
   "nbconvert_exporter": "python",
   "pygments_lexer": "ipython3",
   "version": "3.7.5"
  },
  "toc": {
   "base_numbering": 1,
   "nav_menu": {},
   "number_sections": true,
   "sideBar": true,
   "skip_h1_title": false,
   "title_cell": "Table of Contents",
   "title_sidebar": "Contents",
   "toc_cell": false,
   "toc_position": {},
   "toc_section_display": true,
   "toc_window_display": false
  },
  "varInspector": {
   "cols": {
    "lenName": 16,
    "lenType": 16,
    "lenVar": 40
   },
   "kernels_config": {
    "python": {
     "delete_cmd_postfix": "",
     "delete_cmd_prefix": "del ",
     "library": "var_list.py",
     "varRefreshCmd": "print(var_dic_list())"
    },
    "r": {
     "delete_cmd_postfix": ") ",
     "delete_cmd_prefix": "rm(",
     "library": "var_list.r",
     "varRefreshCmd": "cat(var_dic_list()) "
    }
   },
   "types_to_exclude": [
    "module",
    "function",
    "builtin_function_or_method",
    "instance",
    "_Feature"
   ],
   "window_display": false
  }
 },
 "nbformat": 4,
 "nbformat_minor": 2
}
